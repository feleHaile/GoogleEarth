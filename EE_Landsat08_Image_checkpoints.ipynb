{
 "cells": [
  {
   "cell_type": "code",
   "execution_count": 3,
   "metadata": {},
   "outputs": [],
   "source": [
    "# Import packages\n",
    "import warnings\n",
    "%matplotlib inline\n",
    "warnings.simplefilter(\"ignore\")\n",
    "from IPython.display import Image\n",
    "from ipyleaflet import *\n",
    "import ee\n",
    "import numpy as np\n",
    "import matplotlib as mp"
   ]
  },
  {
   "cell_type": "code",
   "execution_count": 5,
   "metadata": {},
   "outputs": [],
   "source": [
    "# Initialize\n",
    "ee.Initialize()\n",
    "\n",
    "# Matplotlib inline\n",
    "%matplotlib inline\n",
    "\n",
    "# Zoom\n",
    "#mpld3.enable_notebook()"
   ]
  },
  {
   "cell_type": "markdown",
   "metadata": {},
   "source": [
    "### 2 Define Functions\n",
    "2.0 Surface Reflectance"
   ]
  },
  {
   "cell_type": "markdown",
   "metadata": {},
   "source": [
    "### def SR(img):\n",
    "    img = img.addBands(img.select(['blue', 'green', 'red', 'nir', 'swir1', 'swir2']).multiply(0.0001))\n",
    "    img = img.addBands(img.select(['tir']).multiply(0.1));\n",
    "    img = img.select(['blue_1', 'green_1', 'red_1', 'nir_1', 'swir1_1', 'swir2_1','tir_1'],['blue', 'green', 'red', 'nir', 'swir1', 'swir2','tir'])\n",
    "    \n",
    "    return img"
   ]
  },
  {
   "cell_type": "markdown",
   "metadata": {},
   "source": [
    "### 2.1 Indices"
   ]
  },
  {
   "cell_type": "code",
   "execution_count": 8,
   "metadata": {},
   "outputs": [],
   "source": [
    "def NDVI(img):\n",
    "    img = img.addBands(img.normalizedDifference(['nir', 'red']).rename('ndvi'))\n",
    "    img = img.addBands(img.normalizedDifference(['green', 'nir']).rename('ndwi'))\n",
    "    img = img.addBands(img.normalizedDifference(['green', 'swir1']).rename('mndwi'))\n",
    "    img = img.addBands(img.normalizedDifference(['nir', 'swir1']).rename('ndmi'))\n",
    "    img = img.addBands(img.normalizedDifference(['nir', 'swir2']).rename('nbr'))\n",
    "    return img"
   ]
  },
  {
   "cell_type": "markdown",
   "metadata": {},
   "source": [
    "### 2.2 Cloud Mask"
   ]
  },
  {
   "cell_type": "code",
   "execution_count": 9,
   "metadata": {},
   "outputs": [],
   "source": [
    "def NDCI(img):\n",
    "    img = img.addBands(img.select('tir').unitScale(240,270)); \n",
    "    img = img.addBands(img.normalizedDifference(['tir_1','swir2']))\n",
    "    img = img.addBands(img.select('nd').gt(0.4).rename('clear'));\n",
    "    img = img.addBands(img.select('nd').lte(0.4).rename('cloud'));\n",
    "    mask = ee.Image(1).updateMask(img.select('cloud')).byte().reduceToVectors(\n",
    "        {\n",
    "            geometry: aoi, \n",
    "            crs: 'EPSG:3005', \n",
    "            scale: 300, \n",
    "            maxPixels: 1e13\n",
    "        }\n",
    "    )\n",
    "      \n",
    "    maskImg = ee.Image(1).subtract(ee.Image(1).clipToCollection(mask).unmask())\n",
    "    \n",
    "    return img.updateMask(maskImg)"
   ]
  },
  {
   "cell_type": "markdown",
   "metadata": {},
   "source": [
    "### 3. Band Names"
   ]
  },
  {
   "cell_type": "code",
   "execution_count": 10,
   "metadata": {},
   "outputs": [],
   "source": [
    "BANDS_MSS = ['B4', 'B4', 'B4', 'B5', 'B6', 'B6', 'B6', 'B6'];\n",
    "BANDS_TM  = ['B1', 'B1', 'B2', 'B3', 'B4', 'B5', 'B7', 'B6'];\n",
    "BANDS_ETM = ['B1', 'B1', 'B2', 'B3', 'B4', 'B5', 'B7', 'B6'];\n",
    "BANDS_OLI = ['B1', 'B2', 'B3', 'B4', 'B5', 'B6', 'B7', 'B10'];\n",
    "BANDS_MSI = ['B1', 'B2', 'B3', 'B4', 'B8', 'B11','B12','B12'];\n",
    "BANDS_AST = ['B01', 'B01', 'B01', 'B02', 'B3N', 'B04', 'B07', 'B13'];\n",
    "NAMES_STD = ['blue2', 'blue', 'green', 'red', 'nir', 'swir1', 'swir2', 'tir',];"
   ]
  },
  {
   "cell_type": "markdown",
   "metadata": {},
   "source": [
    "### 4. Area of Interest"
   ]
  },
  {
   "cell_type": "code",
   "execution_count": 12,
   "metadata": {},
   "outputs": [
    {
     "name": "stdout",
     "output_type": "stream",
     "text": [
      "GEE {'type': 'Point', 'coordinates': [-121.638316, 56.862497]} JSON {'type': 'Feature', 'geometry': {'type': 'Point', 'coordinates': [-121.638316, 56.862497]}}\n"
     ]
    }
   ],
   "source": [
    "nor = 56.862497\n",
    "eas = -121.638316\n",
    "\n",
    "aoi_gee = {\n",
    "    'type':'Point', \n",
    "    'coordinates':[eas,nor]};\n",
    "\n",
    "aoi_json = {\n",
    "    \"type\": \"Feature\",\n",
    "    \"geometry\": {\"type\": \"Point\",\n",
    "        \"coordinates\": [eas, nor]}}\n",
    "\n",
    "print ('GEE', aoi_gee, 'JSON', aoi_json)"
   ]
  },
  {
   "cell_type": "markdown",
   "metadata": {},
   "source": [
    "### 5. Collections"
   ]
  },
  {
   "cell_type": "code",
   "execution_count": 14,
   "metadata": {},
   "outputs": [
    {
     "name": "stdout",
     "output_type": "stream",
     "text": [
      "There are  487  images in the collection.\n"
     ]
    }
   ],
   "source": [
    "# Merge collections, normalize band names\n",
    "col = ee.ImageCollection(\"LANDSAT/LC08/C01/T1_SR\").select(BANDS_OLI, NAMES_STD)\n",
    "col = col.merge(ee.ImageCollection(\"LANDSAT/LE07/C01/T1_SR\").select(BANDS_ETM, NAMES_STD))\n",
    "col = col.merge(ee.ImageCollection(\"LANDSAT/LT05/C01/T1_SR\").select(BANDS_TM, NAMES_STD))\n",
    "col = col.merge(ee.ImageCollection(\"LANDSAT/LT04/C01/T1_SR\").select(BANDS_TM, NAMES_STD))\n",
    "\n",
    "# Filter collection\n",
    "col = col.filterDate('1985-01-01','2020-01-01')\n",
    "col = col.filterMetadata(\"CLOUD_COVER\", \"less_than\", 30)\n",
    "#col = col.filter(ee.Filter.dayOfYear(100,250))\n",
    "col = col.filterBounds(aoi_gee)\n",
    "\n",
    "print (\"There are \", col.size().getInfo(), \" images in the collection.\")"
   ]
  },
  {
   "cell_type": "markdown",
   "metadata": {},
   "source": [
    "### 6. First Image"
   ]
  },
  {
   "cell_type": "code",
   "execution_count": 16,
   "metadata": {},
   "outputs": [
    {
     "name": "stdout",
     "output_type": "stream",
     "text": [
      "The first image is: LC08_L1TP_048020_20130717_20170309_01_T1\n",
      "The bands are: ['blue', 'green', 'red', 'nir', 'swir1', 'swir2', 'tir', 'ndvi', 'ndwi', 'mndwi', 'ndmi', 'nbr']\n"
     ]
    }
   ],
   "source": [
    "# Select first image\n",
    "image = col.first()\n",
    "\n",
    "# Correct surface reflectance \n",
    "image = SR(image)\n",
    "\n",
    "# Calculate indices\n",
    "image = NDVI(image)\n",
    "\n",
    "print (\"The first image is:\", image.get('LANDSAT_ID').getInfo())\n",
    "print (\"The bands are:\", image.bandNames().getInfo())"
   ]
  },
  {
   "cell_type": "markdown",
   "metadata": {},
   "source": [
    "### 6.2 Display first image"
   ]
  },
  {
   "cell_type": "code",
   "execution_count": 17,
   "metadata": {},
   "outputs": [
    {
     "data": {
      "text/html": [
       "<img src=\"https://earthengine.googleapis.com/api/thumb?thumbid=50d3ffdbc3a8b6e672e0934fc753e438&token=ba664d67c2af3ad13fcf9ba163d0c40f\"/>"
      ],
      "text/plain": [
       "<IPython.core.display.Image object>"
      ]
     },
     "execution_count": 17,
     "metadata": {},
     "output_type": "execute_result"
    }
   ],
   "source": [
    "thumbnail = image.getThumbUrl({'bands': 'swir1,nir,red', 'min':0,'max':0.4,'size':'800'})\n",
    "Image(url=thumbnail)"
   ]
  },
  {
   "cell_type": "code",
   "execution_count": 19,
   "metadata": {},
   "outputs": [
    {
     "name": "stdout",
     "output_type": "stream",
     "text": [
      "https://earthengine.googleapis.com/api/download?docid=a90dde88c2542a8ad5f3e975dd1cca0c&token=3de335077863e36ecf34c0cf72a7bfa1\n"
     ]
    }
   ],
   "source": [
    "# Get a download URL for an image.\n",
    "path = image.select(['swir1','nir','red','ndvi']).getDownloadUrl({'scale': 30, 'crs': 'EPSG:4326'})\n",
    "print (path)"
   ]
  },
  {
   "cell_type": "code",
   "execution_count": 21,
   "metadata": {},
   "outputs": [
    {
     "ename": "NameError",
     "evalue": "name 'aoi' is not defined",
     "output_type": "error",
     "traceback": [
      "\u001b[1;31m---------------------------------------------------------------------------\u001b[0m",
      "\u001b[1;31mNameError\u001b[0m                                 Traceback (most recent call last)",
      "\u001b[1;32m<ipython-input-21-509276bb279b>\u001b[0m in \u001b[0;36m<module>\u001b[1;34m\u001b[0m\n\u001b[0;32m      1\u001b[0m \u001b[1;31m#Retrieve information over image collection\u001b[0m\u001b[1;33m\u001b[0m\u001b[1;33m\u001b[0m\u001b[1;33m\u001b[0m\u001b[0m\n\u001b[1;32m----> 2\u001b[1;33m \u001b[0mts_values\u001b[0m \u001b[1;33m=\u001b[0m \u001b[0mcol\u001b[0m\u001b[1;33m.\u001b[0m\u001b[0mgetRegion\u001b[0m\u001b[1;33m(\u001b[0m\u001b[0maoi\u001b[0m\u001b[1;33m,\u001b[0m\u001b[1;36m500\u001b[0m\u001b[1;33m)\u001b[0m\u001b[1;33m.\u001b[0m\u001b[0mgetInfo\u001b[0m\u001b[1;33m(\u001b[0m\u001b[1;33m)\u001b[0m\u001b[1;33m\u001b[0m\u001b[1;33m\u001b[0m\u001b[0m\n\u001b[0m",
      "\u001b[1;31mNameError\u001b[0m: name 'aoi' is not defined"
     ]
    }
   ],
   "source": [
    "#Retrieve information over image collection\n",
    "ts_values = col.getRegion(aoi,500).getInfo()"
   ]
  },
  {
   "cell_type": "code",
   "execution_count": 22,
   "metadata": {},
   "outputs": [
    {
     "ename": "NameError",
     "evalue": "name 'ts_values' is not defined",
     "output_type": "error",
     "traceback": [
      "\u001b[1;31m---------------------------------------------------------------------------\u001b[0m",
      "\u001b[1;31mNameError\u001b[0m                                 Traceback (most recent call last)",
      "\u001b[1;32m<ipython-input-22-761c26c08885>\u001b[0m in \u001b[0;36m<module>\u001b[1;34m\u001b[0m\n\u001b[0;32m      1\u001b[0m \u001b[1;31m# Reshape Landsat 8\u001b[0m\u001b[1;33m\u001b[0m\u001b[1;33m\u001b[0m\u001b[1;33m\u001b[0m\u001b[0m\n\u001b[1;32m----> 2\u001b[1;33m \u001b[0mheader\u001b[0m \u001b[1;33m=\u001b[0m \u001b[0mts_values\u001b[0m\u001b[1;33m[\u001b[0m\u001b[1;36m0\u001b[0m\u001b[1;33m]\u001b[0m\u001b[1;33m\u001b[0m\u001b[1;33m\u001b[0m\u001b[0m\n\u001b[0m\u001b[0;32m      3\u001b[0m \u001b[0mdata\u001b[0m \u001b[1;33m=\u001b[0m \u001b[0marray\u001b[0m\u001b[1;33m(\u001b[0m\u001b[0mts_values\u001b[0m\u001b[1;33m[\u001b[0m\u001b[1;36m1\u001b[0m\u001b[1;33m:\u001b[0m\u001b[1;33m]\u001b[0m\u001b[1;33m)\u001b[0m\u001b[1;33m\u001b[0m\u001b[1;33m\u001b[0m\u001b[0m\n\u001b[0;32m      4\u001b[0m \u001b[0miTime\u001b[0m \u001b[1;33m=\u001b[0m \u001b[0mheader\u001b[0m\u001b[1;33m.\u001b[0m\u001b[0mindex\u001b[0m\u001b[1;33m(\u001b[0m\u001b[1;34m'time'\u001b[0m\u001b[1;33m)\u001b[0m\u001b[1;33m\u001b[0m\u001b[1;33m\u001b[0m\u001b[0m\n\u001b[0;32m      5\u001b[0m \u001b[0mtime\u001b[0m \u001b[1;33m=\u001b[0m \u001b[1;33m[\u001b[0m\u001b[0mdatetime\u001b[0m\u001b[1;33m.\u001b[0m\u001b[0mdatetime\u001b[0m\u001b[1;33m.\u001b[0m\u001b[0mfromtimestamp\u001b[0m\u001b[1;33m(\u001b[0m\u001b[0mi\u001b[0m\u001b[1;33m/\u001b[0m\u001b[1;36m1000\u001b[0m\u001b[1;33m)\u001b[0m \u001b[1;32mfor\u001b[0m \u001b[0mi\u001b[0m \u001b[1;32min\u001b[0m \u001b[1;33m(\u001b[0m\u001b[0mdata\u001b[0m\u001b[1;33m[\u001b[0m\u001b[1;36m0\u001b[0m\u001b[1;33m:\u001b[0m\u001b[1;33m,\u001b[0m\u001b[0miTime\u001b[0m\u001b[1;33m]\u001b[0m\u001b[1;33m.\u001b[0m\u001b[0mastype\u001b[0m\u001b[1;33m(\u001b[0m\u001b[0mfloat\u001b[0m\u001b[1;33m)\u001b[0m\u001b[1;33m)\u001b[0m\u001b[1;33m]\u001b[0m\u001b[1;33m\u001b[0m\u001b[1;33m\u001b[0m\u001b[0m\n",
      "\u001b[1;31mNameError\u001b[0m: name 'ts_values' is not defined"
     ]
    }
   ],
   "source": [
    "# Reshape Landsat 8\n",
    "header = ts_values[0]\n",
    "data = array(ts_values[1:])\n",
    "iTime = header.index('time')\n",
    "time = [datetime.datetime.fromtimestamp(i/1000) for i in (data[0:,iTime].astype(float))]\n",
    "\n",
    "# List of used image bands\n",
    "band_list = ['nir',u'red']\n",
    "\n",
    "iBands = [header.index(b) for b in band_list]\n",
    "\n",
    "yData = data[0:,iBands].astype(np.float)\n",
    "\n",
    "# Calculate NDVI\n",
    "red = yData[:,0]\n",
    "nir = yData[:,1]\n",
    "ndvi = (nir - red) / (nir + red)\n",
    "\n",
    "# Reshape NDVI array into Pandas Dataframe\n",
    "df = pd.DataFrame(data=ndvi*-1, index=time, columns=['ndvi'])\n",
    "df = df.dropna()\n",
    "\n",
    "df_monthly = df.resample('M').min()"
   ]
  },
  {
   "cell_type": "code",
   "execution_count": null,
   "metadata": {},
   "outputs": [],
   "source": []
  }
 ],
 "metadata": {
  "kernelspec": {
   "display_name": "Python 3",
   "language": "python",
   "name": "python3"
  },
  "language_info": {
   "codemirror_mode": {
    "name": "ipython",
    "version": 3
   },
   "file_extension": ".py",
   "mimetype": "text/x-python",
   "name": "python",
   "nbconvert_exporter": "python",
   "pygments_lexer": "ipython3",
   "version": "3.7.3"
  }
 },
 "nbformat": 4,
 "nbformat_minor": 2
}
